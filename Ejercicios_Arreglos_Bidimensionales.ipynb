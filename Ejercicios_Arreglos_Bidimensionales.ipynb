{
  "nbformat": 4,
  "nbformat_minor": 0,
  "metadata": {
    "colab": {
      "provenance": []
    },
    "kernelspec": {
      "name": "python3",
      "display_name": "Python 3"
    },
    "language_info": {
      "name": "python"
    }
  },
  "cells": [
    {
      "cell_type": "code",
      "execution_count": null,
      "metadata": {
        "id": "c0fNNN8IwHa-"
      },
      "outputs": [],
      "source": [
        "#Ejercicio 1\n",
        "\n",
        "import numpy as np\n",
        "import random\n",
        "\n",
        "lista = [[random.randint(1, 100) for _ in range (1, 4)],\n",
        "        [random.randint(1, 100) for _ in range (1, 4)],\n",
        "        [random.randint(1, 100) for _ in range (1, 4)]]\n",
        "\n",
        "matriz = np.array(lista)\n",
        "\n",
        "print(matriz)"
      ]
    },
    {
      "cell_type": "code",
      "source": [
        "#Ejercicio 2\n",
        "\n",
        "import numpy as np\n",
        "import random\n",
        "\n",
        "lista = [[random.randint(1, 100) for _ in range(1, 4)],\n",
        "        [random.randint(1, 100) for _ in range(1, 4)],\n",
        "        [random.randint(1, 100) for _ in range(1, 4)]]\n",
        "\n",
        "matriz = np.array(lista)\n",
        "\n",
        "print(\"Matriz:\")\n",
        "print(matriz)\n",
        "\n",
        "promedio = np.mean(matriz)\n",
        "print(\"Promedio de los elementos:\", promedio)\n",
        "\n",
        "suma = np.sum(matriz)\n",
        "print(\"Suma de los elementos:\", suma)\n",
        "\n",
        "mayor = np.max(matriz)\n",
        "print(\"Elemento mayor:\", mayor)\n",
        "\n",
        "menor = np.min(matriz)\n",
        "print(\"Elemento menor:\", menor)\n",
        "\n",
        "diagonal_principal = np.diag(matriz)\n",
        "print(\"Elementos de la diagonal principal:\", diagonal_principal)\n",
        "\n",
        "\n"
      ],
      "metadata": {
        "id": "p951cFTjwNT0"
      },
      "execution_count": null,
      "outputs": []
    },
    {
      "cell_type": "code",
      "source": [
        "#Ejercicio 3\n",
        "\n",
        "import numpy as np\n",
        "\n",
        "lista = [[1, 0, 0],\n",
        "         [0, 2, 0],\n",
        "         [0, 0, 3]]\n",
        "\n",
        "matriz = np.array(lista)\n",
        "diag = np.diag(matriz)\n",
        "\n",
        "print(matriz)\n",
        "\n"
      ],
      "metadata": {
        "id": "pyieIY1qwO1E"
      },
      "execution_count": null,
      "outputs": []
    }
  ]
}
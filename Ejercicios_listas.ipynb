{
  "nbformat": 4,
  "nbformat_minor": 0,
  "metadata": {
    "colab": {
      "provenance": []
    },
    "kernelspec": {
      "name": "python3",
      "display_name": "Python 3"
    },
    "language_info": {
      "name": "python"
    }
  },
  "cells": [
    {
      "cell_type": "code",
      "execution_count": null,
      "metadata": {
        "id": "BaH2fUyq3EKG"
      },
      "outputs": [],
      "source": [
        "#Ejercicio 1\n",
        "\n",
        "import random\n",
        "\n",
        "lista = [random.randint(1,10) for _ in range (1, 10)]\n",
        "\n",
        "for i in lista:\n",
        "    cuadrado = i ** 2\n",
        "    cubo = i ** 3\n",
        "    print(f\"Número: {i} \\nCuadrado: {cuadrado}\\nCubo: {cubo}\\n\")\n"
      ]
    },
    {
      "cell_type": "code",
      "source": [
        "#Ejercicio 2\n",
        "\n",
        "lista = [\"Perro\", \"Gato\", \"Pingüino\", \"Oso\", \"Dragón\"]\n",
        "lista2 = [\"Pato\", \"Tiburón\"]\n",
        "\n",
        "lista2.insert(6, lista)\n",
        "lista2.reverse()\n",
        "print (lista2)\n",
        "\n"
      ],
      "metadata": {
        "id": "Xs-0wSnk3Lzi"
      },
      "execution_count": null,
      "outputs": []
    },
    {
      "cell_type": "code",
      "source": [
        "#Ejercicio 3\n",
        "\n",
        "suma = 0\n",
        "lista = []\n",
        "\n",
        "for i in range(1, 6):\n",
        "    nota = int(input(\"Ingrese una nota: \"))\n",
        "    lista.append(nota)\n",
        "    print(lista)\n",
        "    suma += nota\n",
        "\n",
        "notamedia = suma / len(lista)\n",
        "notamayor = max(lista)\n",
        "notamenor = min(lista)\n",
        "\n",
        "print(f\"La media es: {notamedia}\")\n",
        "print(f\"La nota mayor es: {notamayor}\")\n",
        "print(f\"La nota menor es: {notamenor}\")\n",
        "\n",
        "  "
      ],
      "metadata": {
        "id": "Nnpc665d3L8J"
      },
      "execution_count": null,
      "outputs": []
    }
  ]
}